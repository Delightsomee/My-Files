{
 "cells": [
  {
   "cell_type": "markdown",
   "id": "10fee021",
   "metadata": {},
   "source": [
    "<a id=\"anchor\"></a>\n",
    "# Final Project - Create, Modify, and Submit a Jupyter Notebook"
   ]
  },
  {
   "cell_type": "markdown",
   "id": "db7886b5",
   "metadata": {},
   "source": [
    "### 1. A car with a full tank of gas drives 80 miles per hour for 3 hours before running out of gas. How many miles can the car go per tank?"
   ]
  },
  {
   "attachments": {
    "s2table1.gif": {
     "image/gif": "[encoded data removed]"
    }
   },
   "cell_type": "markdown",
   "id": "671c09d5",
   "metadata": {},
   "source": [
    "##### Formula for speed = distance/time. Therefore, distance = speed * time\n",
    "![s2table1.gif](attachment:s2table1.gif)"
   ]
  },
  {
   "cell_type": "code",
   "execution_count": 10,
   "id": "48332ad5",
   "metadata": {},
   "outputs": [
    {
     "data": {
      "text/plain": [
       "240"
      ]
     },
     "execution_count": 10,
     "metadata": {},
     "output_type": "execute_result"
    }
   ],
   "source": [
    "80*3"
   ]
  },
  {
   "cell_type": "markdown",
   "id": "4a7c1376",
   "metadata": {},
   "source": [
    "*The car will travel 240 miles with a full tank of gas*"
   ]
  },
  {
   "cell_type": "markdown",
   "id": "3546190e",
   "metadata": {},
   "source": [
    "### 2. A runner travels a half marathon (13.1 miles) in 3 hours. How fast was this runner going in miles per hour?"
   ]
  },
  {
   "cell_type": "markdown",
   "id": "8ae11826",
   "metadata": {},
   "source": [
    "##### Formula for speed = distance/time"
   ]
  },
  {
   "cell_type": "code",
   "execution_count": 11,
   "id": "34528572",
   "metadata": {},
   "outputs": [
    {
     "data": {
      "text/plain": [
       "4.366666666666666"
      ]
     },
     "execution_count": 11,
     "metadata": {},
     "output_type": "execute_result"
    }
   ],
   "source": [
    "13.1/3"
   ]
  },
  {
   "cell_type": "markdown",
   "id": "30e3fe18",
   "metadata": {},
   "source": [
    "*The runner was going at a speed of 4.37 miles per hour*"
   ]
  },
  {
   "cell_type": "markdown",
   "id": "deb2b1a0",
   "metadata": {},
   "source": [
    "### 3. The spread of a virus is exponential. If 5 people are infected and each person infects 2 other people, how many people have been infected after 5 rounds of infection?"
   ]
  },
  {
   "cell_type": "markdown",
   "id": "a6c943f3",
   "metadata": {},
   "source": [
    "##### Formula for exponential infections is y = a b^x where \n",
    "*a = initial number of infected bacteria,* \n",
    "*b = number infected by one infected bacteria, and* \n",
    "*x = number of infection rounds*"
   ]
  },
  {
   "cell_type": "code",
   "execution_count": 12,
   "id": "d5891b42",
   "metadata": {},
   "outputs": [
    {
     "data": {
      "text/plain": [
       "160"
      ]
     },
     "execution_count": 12,
     "metadata": {},
     "output_type": "execute_result"
    }
   ],
   "source": [
    "5*(2**5)"
   ]
  },
  {
   "cell_type": "markdown",
   "id": "7a046fa6",
   "metadata": {},
   "source": [
    ">160 people have been infected after 5 rounds of infection"
   ]
  },
  {
   "cell_type": "markdown",
   "id": "00bab6c8",
   "metadata": {},
   "source": [
    "- [x] The above explanations gave a concise answer to the basic mathematical questions"
   ]
  },
  {
   "cell_type": "markdown",
   "id": "a635aee9",
   "metadata": {},
   "source": [
    "[Go up](#anchor)"
   ]
  },
  {
   "cell_type": "code",
   "execution_count": null,
   "id": "fbc0e8f4",
   "metadata": {},
   "outputs": [],
   "source": []
  }
 ],
 "metadata": {
  "kernelspec": {
   "display_name": "Python 3 (ipykernel)",
   "language": "python",
   "name": "python3"
  },
  "language_info": {
   "codemirror_mode": {
    "name": "ipython",
    "version": 3
   },
   "file_extension": ".py",
   "mimetype": "text/x-python",
   "name": "python",
   "nbconvert_exporter": "python",
   "pygments_lexer": "ipython3",
   "version": "3.11.2"
  }
 },
 "nbformat": 4,
 "nbformat_minor": 5
}
